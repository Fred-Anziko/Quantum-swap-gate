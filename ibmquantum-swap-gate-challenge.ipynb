{
 "cells": [
  {
   "cell_type": "markdown",
   "metadata": {},
   "source": [
    "![image](dependencies/open-science-prize.png)\n",
    "\n",
    "## Better `SWAP` Gates\n",
    "\n",
    "In this notebook we will generate circuits to characterize the standard `SWAP` gate with the intention of building a better performing `SWAP` gate using Qiskit Pulse. The `SWAP` gate is a two qubit gate which `SWAP`s the states of qubit 1 with qubit 2. The standard `SWAP` gate is implemented as 3 standard `CNOT` gates, i.e. `CNOT`(q1,q2) $\\rightarrow$ `CNOT`(q2,q1) $\\rightarrow$ `CNOT`(q1,q2). It is a gate that is necessary to perform many algorithms especially for hardware platforms which have limited or fixed qubit-qubit connectivity. It thus facilitates gates between qubits that are not physically connected to one another. \n",
    "\n",
    "Unfortunately, the `SWAP` gate is a very costly gate to implement in terms of execution time and error budget, especially if gates must be performed between qubits that are very far from each other.  Therefore, improving the performance of the `SWAP` gate can improve algorithmic performance and can even boost the quantum volume of a given system.\n",
    "\n",
    "**The goal of this challenge is to come up with an improved `SWAP` gate whose fidelity is measured using interleaved randomized benchmarking which will be shown in this notebook.** You may conside using Qiskit Pulse, or work at the gate level using Qiskit's built in gates, to achieve this."
   ]
  },
  {
   "cell_type": "markdown",
   "metadata": {},
   "source": [
    "## Imports"
   ]
  },
  {
   "cell_type": "code",
   "execution_count": 68,
   "metadata": {},
   "outputs": [],
   "source": [
    "### Install Qiskit and other modules if you don't have them already\n",
    "#!pip install -r dependencies/requirements.txt --quiet"
   ]
  },
  {
   "cell_type": "markdown",
   "metadata": {},
   "source": [
    "Begin by importing the necessary packages and defining the functions we will need for the benchmarking measurements."
   ]
  },
  {
   "cell_type": "code",
   "execution_count": 254,
   "metadata": {},
   "outputs": [],
   "source": [
    "# Needed for functions\n",
    "import numpy as np\n",
    "from matplotlib import pyplot as plt\n",
    "import time\n",
    "from IPython.display import display, clear_output\n",
    "\n",
    "# Qiskit imports\n",
    "import qiskit\n",
    "from qiskit import QuantumCircuit, Aer, IBMQ\n",
    "from qiskit import transpile, schedule, assemble, execute\n",
    "from qiskit.tools.monitor import job_monitor\n",
    "import qiskit.tools.jupyter\n",
    "\n",
    "# Interleaved randomized benchmarking functions\n",
    "from qiskit.ignis.verification import randomized_benchmarking as rb\n",
    "from qiskit.ignis.verification import InterleavedRBFitter\n",
    "\n",
    "# Measurement mitigation\n",
    "from qiskit.ignis.mitigation.measurement import (complete_meas_cal,CompleteMeasFitter)\n",
    "\n",
    "# Qiskit tools for noisy simulation\n",
    "from qiskit.providers.aer import QasmSimulator\n",
    "\n",
    "# Qiskit Pulse imports\n",
    "import qiskit.pulse\n",
    "from qiskit import pulse\n",
    "from qiskit.pulse import library\n",
    "\n",
    "# Suppress warnings\n",
    "import warnings\n",
    "warnings.filterwarnings('ignore')"
   ]
  },
  {
   "cell_type": "markdown",
   "metadata": {},
   "source": [
    "## Load your provider and backend\n",
    "The target backend being used for this work is the IBM Quantum system called `ibmq_casablanca`. You will receive access to `ibm-q-community/ibmquantumawards/open-science` after registering for the Open Science Prize.\n",
    "\n",
    "However, in order to debug more quickly and avoid queues, you may consider using a simulator backend modeled after the real quantum system. This will use the noise model of `ibmq_casablanca` to do simulations. **Note that the fidelities of your measurements will generally be higher on the simulator, but the Open Science Prize is awarded for the best fidelities on the real quantum system.**"
   ]
  },
  {
   "cell_type": "code",
   "execution_count": 256,
   "metadata": {
    "scrolled": false
   },
   "outputs": [
    {
     "name": "stderr",
     "output_type": "stream",
     "text": [
      "configrc.store_credentials:WARNING:2021-04-10 11:25:18,834: Credentials already present. Set overwrite=True to overwrite.\n",
      "ibmqfactory.load_account:WARNING:2021-04-10 11:25:20,629: Credentials are already in use. The existing account in the session will be replaced.\n"
     ]
    }
   ],
   "source": [
    "IBMQ.save_account('03d14e0c2f974a12ec5e16a95598c4c8d206b04571e201a66930865503373fa83456f27740534a05c6312c671487e9f85ab3b0ae27084eb65803df8e929be157')\n",
    "IBMQ.load_account()\n",
    "provider = IBMQ.get_provider(hub='ibm-q-community', group='ibmquantumawards', project='open-science')\n",
    "backend = provider.get_backend('ibmq_casablanca')"
   ]
  },
  {
   "cell_type": "markdown",
   "metadata": {},
   "source": [
    "To use simulator, uncomment the following line."
   ]
  },
  {
   "cell_type": "code",
   "execution_count": 257,
   "metadata": {},
   "outputs": [],
   "source": [
    "backend = QasmSimulator.from_backend(provider.get_backend('ibmq_casablanca'))"
   ]
  },
  {
   "cell_type": "markdown",
   "metadata": {},
   "source": [
    "## Interleaved Randomized Benchmarking"
   ]
  },
  {
   "cell_type": "markdown",
   "metadata": {},
   "source": [
    "In the following section we use interleaved randomized benchmarking to characterize the standard `SWAP`. This method is robust to SPAM errors. We begin by finding the best `cx` gate on the device."
   ]
  },
  {
   "cell_type": "code",
   "execution_count": 258,
   "metadata": {
    "scrolled": false
   },
   "outputs": [
    {
     "name": "stdout",
     "output_type": "stream",
     "text": [
      "Qubit pair [0, 1] has cx error 0.0164\n",
      "Qubit pair [1, 0] has cx error 0.0164\n",
      "Qubit pair [1, 2] has cx error 0.0420\n",
      "Qubit pair [1, 3] has cx error 0.0077\n",
      "Qubit pair [2, 1] has cx error 0.0420\n",
      "Qubit pair [3, 1] has cx error 0.0077\n",
      "Qubit pair [3, 5] has cx error 0.0116\n",
      "Qubit pair [4, 5] has cx error 0.0095\n",
      "Qubit pair [5, 3] has cx error 0.0116\n",
      "Qubit pair [5, 4] has cx error 0.0095\n",
      "Qubit pair [5, 6] has cx error 0.0077\n",
      "Qubit pair [6, 5] has cx error 0.0077\n",
      "Best cx gate is qubit pair [5, 6] with cx error 0.0077 (0.77%)\n"
     ]
    }
   ],
   "source": [
    "coupling_map = backend.configuration().coupling_map\n",
    "gate_errors_cx = [backend.properties().gate_error('cx', qubit_pair) for qubit_pair in coupling_map]\n",
    "\n",
    "for qubit_pair, gate_error_cx in zip(coupling_map, gate_errors_cx):\n",
    "    print(\"Qubit pair {} has cx error {:.4f}\".format(qubit_pair, gate_error_cx))\n",
    "\n",
    "best_cx_error = min(gate_errors_cx)\n",
    "best_qubit_pair = coupling_map[gate_errors_cx.index(min(gate_errors_cx))]\n",
    "print(\"Best cx gate is qubit pair {} with cx error {:.4f} ({:.2f}%)\".format(best_qubit_pair, best_cx_error, best_cx_error*100))"
   ]
  },
  {
   "cell_type": "markdown",
   "metadata": {},
   "source": [
    "Then, we set up randomized benchmarking as follows. "
   ]
  },
  {
   "cell_type": "code",
   "execution_count": 259,
   "metadata": {},
   "outputs": [],
   "source": [
    "# do RB on swap gate between the qubits that have the cx gate with lowest error\n",
    "q1 = best_qubit_pair[0]\n",
    "q2 = best_qubit_pair[1]\n",
    "\n",
    "# generate the RB circuit parameters\n",
    "length_vector = np.arange(1,200,20)\n",
    "nseeds = 5\n",
    "rb_pattern = [[q1,q2]]"
   ]
  },
  {
   "cell_type": "markdown",
   "metadata": {},
   "source": [
    "### Your code goes here\n",
    "\n",
    "The below block is where your SWAP gate can be inserted in order to be characterized. The code below uses the standard implementation of a SWAP gate in Qiskit as an example."
   ]
  },
  {
   "cell_type": "code",
   "execution_count": 260,
   "metadata": {},
   "outputs": [
    {
     "name": "stdout",
     "output_type": "stream",
     "text": [
      "          ┌───┐     ┌───┐     \n",
      "q_0: ──■──┤ H ├──■──┤ H ├──■──\n",
      "     ┌─┴─┐├───┤┌─┴─┐├───┤┌─┴─┐\n",
      "q_1: ┤ Y ├┤ H ├┤ X ├┤ H ├┤ Y ├\n",
      "     └───┘└───┘└───┘└───┘└───┘\n"
     ]
    }
   ],
   "source": [
    "# Specify the interleaved element, i.e. the gate to be characterized\n",
    "\n",
    "qc_swap = QuantumCircuit(2)\n",
    "### YOUR CODE GOES HERE -- START\n",
    "class qcswap(QuantumCircuit):\n",
    "    \n",
    "    def f_swap(qubit0,qubit1):\n",
    "        qc_swap.cy(qubit0,qubit1)\n",
    "        qc_swap.h(qubit0)\n",
    "        qc_swap.h(qubit1)\n",
    "        qc_swap.cx(qubit0,qubit1)\n",
    "        qc_swap.h(qubit0)\n",
    "        qc_swap.h(qubit1)\n",
    "        qc_swap.cy(qubit0,qubit1)\n",
    "        return qc_swap\n",
    "qc_swap=qcswap.f_swap(0,1)\n",
    "print(qc_swap)\n",
    "### YOUR CODE GOES HERE -- FINISH\n",
    "interleaved_elem = [qc_swap]"
   ]
  },
  {
   "cell_type": "markdown",
   "metadata": {},
   "source": [
    "### Benchmarking the `SWAP` gate"
   ]
  },
  {
   "cell_type": "code",
   "execution_count": null,
   "metadata": {},
   "outputs": [],
   "source": [
    "# Generate the RB circuits\n",
    "rb_circs, xdata, circuits_interleaved = rb.randomized_benchmarking_seq(length_vector=length_vector,\n",
    "                                             nseeds=nseeds,\n",
    "                                             rb_pattern=rb_pattern,\n",
    "                                             interleaved_elem=interleaved_elem)"
   ]
  },
  {
   "cell_type": "code",
   "execution_count": null,
   "metadata": {},
   "outputs": [],
   "source": [
    "# Execute the non-interleaved RB circuits as a reference \n",
    "shots=1000\n",
    "basis_gates = ['u1','u2','u3','cx'] # use U,CX for now\n",
    "result_list = []\n",
    "transpile_list = []\n",
    "for rb_seed,rb_circ_seed in enumerate(rb_circs):\n",
    "    print('Compiling seed %d'%rb_seed)\n",
    "    rb_circ_transpile = transpile(rb_circ_seed, basis_gates=basis_gates)\n",
    "    print('Simulating seed %d'%rb_seed)\n",
    "    job = execute(rb_circ_transpile, shots=shots, backend=backend)\n",
    "    ##job = backend.retrieve_job('6027b772ff51aadcf3c63560')##\n",
    "    job_monitor(job)\n",
    "    result_list.append(job.result())\n",
    "    transpile_list.append(rb_circ_transpile)    \n",
    "print(\"Finished Simulating\")"
   ]
  },
  {
   "cell_type": "code",
   "execution_count": null,
   "metadata": {},
   "outputs": [],
   "source": [
    "# Plot the non-interleaved RB results\n",
    "rbfit = rb.fitters.RBFitter(result_list[0], xdata, rb_pattern)\n",
    "\n",
    "for seed_num, data in enumerate(result_list):#range(1,len(result_list)):  \n",
    "    plt.figure(figsize=(6, 6))\n",
    "    axis = [plt.subplot(1, 1, 1)]\n",
    "    \n",
    "    # Add another seed to the data\n",
    "    rbfit.add_data([data])\n",
    "    \n",
    "    for i in range(1):\n",
    "        pattern_ind = i\n",
    "\n",
    "        # Plot the essence by calling plot_rb_data\n",
    "        rbfit.plot_rb_data(pattern_ind, ax=axis[i], add_label=True, show_plt=False)\n",
    "\n",
    "        # Add title and label\n",
    "        axis[i].set_title('2 Qubit RB - after seed %d'%(seed_num), fontsize=18)\n",
    "        \n",
    "    # Display\n",
    "    display(plt.gcf())\n",
    "    \n",
    "    # Clear display after each seed and close\n",
    "    clear_output(wait=True)\n",
    "    time.sleep(1.0)\n",
    "    plt.close()"
   ]
  },
  {
   "cell_type": "code",
   "execution_count": null,
   "metadata": {},
   "outputs": [],
   "source": [
    "# Execute the interleaved RB circuits\n",
    "shots=1000\n",
    "basis_gates = ['u1','u2','u3','cx'] # use U,CX for now\n",
    "interleaved_result_list = []\n",
    "interleaved_transpile_list = []\n",
    "for rb_seed,rb_circ_seed in enumerate(circuits_interleaved):\n",
    "    print('Compiling seed %d'%rb_seed)\n",
    "    rb_circ_transpile = transpile(rb_circ_seed, basis_gates=basis_gates)\n",
    "    print('Simulating seed %d'%rb_seed)\n",
    "    job = execute(rb_circ_transpile, shots=shots, backend=backend)\n",
    "    interleaved_result_list.append(job.result())\n",
    "    interleaved_transpile_list.append(rb_circ_transpile)    \n",
    "print(\"Finished Simulating\")"
   ]
  },
  {
   "cell_type": "code",
   "execution_count": null,
   "metadata": {},
   "outputs": [],
   "source": [
    "# Plot the interleaved RB circuit results\n",
    "rbfit = rb.fitters.RBFitter(interleaved_result_list[0], xdata, rb_pattern)\n",
    "\n",
    "for seed_num, data in enumerate(interleaved_result_list):#range(1,len(result_list)):  \n",
    "    plt.figure(figsize=(6, 6))\n",
    "    axis = [plt.subplot(1, 1, 1)]\n",
    "    \n",
    "    # Add another seed to the data\n",
    "    rbfit.add_data([data])\n",
    "    \n",
    "    for i in range(1):\n",
    "        pattern_ind = i\n",
    "\n",
    "        # Plot the essence by calling plot_rb_data\n",
    "        rbfit.plot_rb_data(pattern_ind, ax=axis[i], add_label=True, show_plt=False)\n",
    "\n",
    "        # Add title and label\n",
    "        axis[i].set_title('2 Qubit RB - after seed %d'%(seed_num), fontsize=18)\n",
    "        \n",
    "    # Display\n",
    "    display(plt.gcf())\n",
    "    \n",
    "    # Clear display after each seed and close\n",
    "    clear_output(wait=True)\n",
    "    time.sleep(1.0)\n",
    "    plt.close()"
   ]
  },
  {
   "cell_type": "code",
   "execution_count": null,
   "metadata": {},
   "outputs": [],
   "source": [
    "# Extract the interleaved results and plot\n",
    "rb_fit_interleaved = InterleavedRBFitter(result_list, interleaved_result_list, xdata, rb_pattern)"
   ]
  },
  {
   "cell_type": "code",
   "execution_count": null,
   "metadata": {},
   "outputs": [],
   "source": [
    "plt.figure(figsize=(8, 8))\n",
    "axis = [plt.subplot(1, 1, 1)]\n",
    "rb_fit_interleaved.plot_rb_data(ax=axis[0],add_label=True, show_plt=False)"
   ]
  },
  {
   "cell_type": "markdown",
   "metadata": {},
   "source": [
    "We see that the standard `SWAP` has an error of 2.047%."
   ]
  },
  {
   "cell_type": "markdown",
   "metadata": {},
   "source": [
    "## Pulse `SWAP`"
   ]
  },
  {
   "cell_type": "markdown",
   "metadata": {},
   "source": [
    "In this section we will outline the basic steps of constructing a custom gate using Qiskit Pulse which can then be characterized with the above techniques demonstrated in the above sections.\n",
    "\n",
    "First let's set up by loading the backend details for Qiskit Pulse."
   ]
  },
  {
   "cell_type": "code",
   "execution_count": null,
   "metadata": {},
   "outputs": [],
   "source": [
    "backend = provider.get_backend('ibmq_casablanca')"
   ]
  },
  {
   "cell_type": "code",
   "execution_count": null,
   "metadata": {},
   "outputs": [],
   "source": [
    "## load all the backend parameters for pulse\n",
    "back_defaults = backend.defaults()\n",
    "back_configuration = backend.configuration()\n",
    "back_properties = backend.properties()\n",
    "inst_map = back_defaults.instruction_schedule_map"
   ]
  },
  {
   "cell_type": "markdown",
   "metadata": {},
   "source": [
    "Next, let's take a look at the pulse schedule for the standard `SWAP` gate in Qiskit."
   ]
  },
  {
   "cell_type": "code",
   "execution_count": null,
   "metadata": {},
   "outputs": [],
   "source": [
    "qc_swap_transpiled = transpile(qc_swap, backend, optimization_level=1)\n",
    "sched = schedule(qc_swap_transpiled, backend, inst_map=inst_map)\n",
    "sched.draw()"
   ]
  },
  {
   "cell_type": "markdown",
   "metadata": {},
   "source": [
    "The gate is constructed by 3 `CNOT` gates where each `CNOT` consists of a 2 pulse echoed cross-resonance (CR) drive (https://arxiv.org/pdf/1603.04821.pdf) applied to the control qubit (u1 in the figure) and a on resonant 'rotary echo' (https://arxiv.org/pdf/2007.02925.pdf) applied to the target qubit. The direction of the `CNOT` can be flipped by applying hadamard gates to both qubits before and after the CR drive.\n",
    "\n",
    "You may construct a custom gate using Qiskit Pulse, following these tutorials: [[pulse instructions]](https://github.com/Qiskit/qiskit-tutorials/blob/master/tutorials/circuits_advanced/06_building_pulse_instructions.ipynb) [[pulse schedules]](https://github.com/Qiskit/qiskit-tutorials/blob/master/tutorials/circuits_advanced/07_building_pulse_schedules.ipynb)\n",
    "\n",
    "Once your gate is defined as a circuit element, drop it into this notebook above in order to see how well it performs!"
   ]
  },
  {
   "cell_type": "markdown",
   "metadata": {},
   "source": [
    "## Qiskit version"
   ]
  },
  {
   "cell_type": "code",
   "execution_count": 191,
   "metadata": {},
   "outputs": [
    {
     "data": {
      "text/html": [
       "<h3>Version Information</h3><table><tr><th>Qiskit Software</th><th>Version</th></tr><tr><td>Qiskit</td><td>0.23.1</td></tr><tr><td>Terra</td><td>0.16.1</td></tr><tr><td>Aer</td><td>0.7.1</td></tr><tr><td>Ignis</td><td>0.5.1</td></tr><tr><td>Aqua</td><td>0.8.1</td></tr><tr><td>IBM Q Provider</td><td>0.11.1</td></tr><tr><th>System information</th></tr><tr><td>Python</td><td>3.8.5 (default, Sep  3 2020, 21:29:08) [MSC v.1916 64 bit (AMD64)]</td></tr><tr><td>OS</td><td>Windows</td></tr><tr><td>CPUs</td><td>2</td></tr><tr><td>Memory (Gb)</td><td>3.935894012451172</td></tr><tr><td colspan='2'>Sat Apr 10 10:42:03 2021 E. Africa Standard Time</td></tr></table>"
      ],
      "text/plain": [
       "<IPython.core.display.HTML object>"
      ]
     },
     "metadata": {},
     "output_type": "display_data"
    }
   ],
   "source": [
    "%qiskit_version_table"
   ]
  }
 ],
 "metadata": {
  "kernelspec": {
   "display_name": "Python 3",
   "language": "python",
   "name": "python3"
  },
  "language_info": {
   "codemirror_mode": {
    "name": "ipython",
    "version": 3
   },
   "file_extension": ".py",
   "mimetype": "text/x-python",
   "name": "python",
   "nbconvert_exporter": "python",
   "pygments_lexer": "ipython3",
   "version": "3.8.5"
  }
 },
 "nbformat": 4,
 "nbformat_minor": 4
}
